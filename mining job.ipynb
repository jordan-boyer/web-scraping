{
 "cells": [
  {
   "cell_type": "code",
   "execution_count": 2,
   "metadata": {
    "collapsed": false
   },
   "outputs": [],
   "source": [
    "# Url to grap info \n",
    "'https://biep-recrute.talent-soft.com/offre-de-emploi/liste-offres.aspx?mode=list&lcid=1036&facet_Region=208&Keywords=financier'\n",
    "\n",
    "#needed variable\n",
    "base_url = 'https://biep-recrute.talent-soft.com'\n",
    "keywords = 'financier'\n",
    "facet_Region = \"208\" # check on the site to get the code location\n",
    "ongoing_page = 'page=1'\n",
    "url = base_url + '/offre-de-emploi/liste-offres.aspx?' + ongoing_page + '&mode=list&lcid=1036&facet_Region=' + facet_Region + '&Keywords=' + keywords\n",
    "until_when = datetime.datetime.strptime('1/10/2017', \"%d/%m/%Y\").date()\n",
    "current_page = 1\n"
   ]
  },
  {
   "cell_type": "code",
   "execution_count": 1,
   "metadata": {
    "collapsed": false
   },
   "outputs": [],
   "source": [
    "#Imports\n",
    "\n",
    "import pandas as pd\n",
    "import numpy as np\n",
    "from bs4 import BeautifulSoup as bs\n",
    "import datetime\n",
    "from math import ceil\n",
    "from requests import get\n",
    "from time import sleep\n",
    "from random import randint"
   ]
  },
  {
   "cell_type": "code",
   "execution_count": 3,
   "metadata": {
    "collapsed": true
   },
   "outputs": [],
   "source": [
    "# func for getting the html\n",
    "\n",
    "def get_html(link):\n",
    "    # Don't run this command multiple time in a row unless you want your ip to be ban\n",
    "    print('getting data from: ' + link)\n",
    "    page = get(link)\n",
    "    sleep(randint(8,15))\n",
    "    # Get the tree version with BeautifulSoup\n",
    "    return bs(page.text, 'html.parser')"
   ]
  },
  {
   "cell_type": "code",
   "execution_count": null,
   "metadata": {
    "collapsed": true
   },
   "outputs": [],
   "source": []
  },
  {
   "cell_type": "code",
   "execution_count": 4,
   "metadata": {
    "collapsed": false
   },
   "outputs": [
    {
     "name": "stdout",
     "output_type": "stream",
     "text": [
      "getting data from: https://biep-recrute.talent-soft.com/offre-de-emploi/liste-offres.aspx?page=1&mode=list&lcid=1036&facet_Region=208&Keywords=financier\n"
     ]
    }
   ],
   "source": [
    "# Get first request\n",
    "\n",
    "html_soup = get_html(url)\n",
    "\n",
    "# Info about the number of page\n",
    "\n",
    "resultat = html_soup.find_all('div', class_ = 'resultat')\n",
    "nb_pages = ceil(int(resultat[0].span.text.split()[0]) / 50)"
   ]
  },
  {
   "cell_type": "code",
   "execution_count": null,
   "metadata": {
    "collapsed": true
   },
   "outputs": [],
   "source": []
  },
  {
   "cell_type": "code",
   "execution_count": 5,
   "metadata": {
    "collapsed": true
   },
   "outputs": [],
   "source": [
    "# Data viariable to stock all info\n",
    "\n",
    "dates = []\n",
    "ref_link = []\n",
    "titles = []\n",
    "status = []\n",
    "locs = []\n",
    "services = []"
   ]
  },
  {
   "cell_type": "code",
   "execution_count": 6,
   "metadata": {
    "collapsed": false
   },
   "outputs": [
    {
     "name": "stdout",
     "output_type": "stream",
     "text": [
      "getting data from: https://biep-recrute.talent-soft.com/offre-de-emploi/liste-offres.aspx?page=2&mode=list&lcid=1036&facet_Region=208&Keywords=financier\n",
      "getting data from: https://biep-recrute.talent-soft.com/offre-de-emploi/liste-offres.aspx?page=3&mode=list&lcid=1036&facet_Region=208&Keywords=financier\n",
      "getting data from: https://biep-recrute.talent-soft.com/offre-de-emploi/liste-offres.aspx?page=4&mode=list&lcid=1036&facet_Region=208&Keywords=financier\n",
      "getting data from: https://biep-recrute.talent-soft.com/offre-de-emploi/liste-offres.aspx?page=5&mode=list&lcid=1036&facet_Region=208&Keywords=financier\n",
      "getting data from: https://biep-recrute.talent-soft.com/offre-de-emploi/liste-offres.aspx?page=6&mode=list&lcid=1036&facet_Region=208&Keywords=financier\n",
      "getting data from: https://biep-recrute.talent-soft.com/offre-de-emploi/liste-offres.aspx?page=7&mode=list&lcid=1036&facet_Region=208&Keywords=financier\n",
      "getting data from: https://biep-recrute.talent-soft.com/offre-de-emploi/liste-offres.aspx?page=8&mode=list&lcid=1036&facet_Region=208&Keywords=financier\n",
      "getting data from: https://biep-recrute.talent-soft.com/offre-de-emploi/liste-offres.aspx?page=9&mode=list&lcid=1036&facet_Region=208&Keywords=financier\n",
      "getting data from: https://biep-recrute.talent-soft.com/offre-de-emploi/liste-offres.aspx?page=10&mode=list&lcid=1036&facet_Region=208&Keywords=financier\n",
      "getting data from: https://biep-recrute.talent-soft.com/offre-de-emploi/liste-offres.aspx?page=11&mode=list&lcid=1036&facet_Region=208&Keywords=financier\n",
      "getting data from: https://biep-recrute.talent-soft.com/offre-de-emploi/liste-offres.aspx?page=12&mode=list&lcid=1036&facet_Region=208&Keywords=financier\n",
      "getting data from: https://biep-recrute.talent-soft.com/offre-de-emploi/liste-offres.aspx?page=13&mode=list&lcid=1036&facet_Region=208&Keywords=financier\n",
      "getting data from: https://biep-recrute.talent-soft.com/offre-de-emploi/liste-offres.aspx?page=14&mode=list&lcid=1036&facet_Region=208&Keywords=financier\n",
      "getting data from: https://biep-recrute.talent-soft.com/offre-de-emploi/liste-offres.aspx?page=15&mode=list&lcid=1036&facet_Region=208&Keywords=financier\n",
      "getting data from: https://biep-recrute.talent-soft.com/offre-de-emploi/liste-offres.aspx?page=16&mode=list&lcid=1036&facet_Region=208&Keywords=financier\n"
     ]
    }
   ],
   "source": [
    "# Loop throught all page (1 is already load so read data before)\n",
    "\n",
    "while True:\n",
    "    # Get all the jobs on the page\n",
    "    job_containers = html_soup.find_all('li', class_ = 'offerlist-item')\n",
    "    \n",
    "    # Loop throught all the job to get the info\n",
    "\n",
    "    for index, info in enumerate(job_containers): \n",
    "        # Get info for the job\n",
    "        info_containers = job_containers[index].find_all('li')\n",
    "        date = datetime.datetime.strptime(info_containers[1].text, \"%d/%m/%Y\").date()\n",
    "        # Don't grab outdated info\n",
    "        if date > until_when:\n",
    "            # Get Data for one Job\n",
    "            ref_link.append(base_url + job_containers[index].a['href'])\n",
    "            dates.append(date)\n",
    "            titles.append(job_containers[index].a['title'])\n",
    "            status.append(info_containers[2].text)\n",
    "            locs.append(info_containers[3].text)\n",
    "            services.append(info_containers[4].text)\n",
    "    \n",
    "    current_page += 1\n",
    "    if current_page > nb_pages:\n",
    "        break\n",
    "    ongoing_page = 'page=' + str(current_page)\n",
    "    url = base_url + '/offre-de-emploi/liste-offres.aspx?' + ongoing_page + '&mode=list&lcid=1036&facet_Region=' + facet_Region + '&Keywords=' + keywords\n",
    "    html_soup = get_html(url)"
   ]
  },
  {
   "cell_type": "code",
   "execution_count": 7,
   "metadata": {
    "collapsed": false
   },
   "outputs": [
    {
     "data": {
      "text/plain": [
       "764"
      ]
     },
     "execution_count": 7,
     "metadata": {},
     "output_type": "execute_result"
    }
   ],
   "source": [
    "int(resultat[0].span.text.split()[0])"
   ]
  },
  {
   "cell_type": "code",
   "execution_count": 16,
   "metadata": {
    "collapsed": true
   },
   "outputs": [],
   "source": [
    "\n",
    "\n"
   ]
  },
  {
   "cell_type": "code",
   "execution_count": 75,
   "metadata": {
    "collapsed": false
   },
   "outputs": [],
   "source": [
    "\n",
    "\n"
   ]
  },
  {
   "cell_type": "code",
   "execution_count": 8,
   "metadata": {
    "collapsed": false
   },
   "outputs": [],
   "source": [
    "# All job to dataFrame\n",
    "wanted_job = pd.DataFrame({'title': titles,\n",
    "                          'date': dates,\n",
    "                          'lien': ref_link,\n",
    "                          'status': status,\n",
    "                          'localisation': locs,\n",
    "                          'service': services})\n",
    "# Sort by date\n",
    "wanted_job.sort_values('date', ascending=False, inplace=True)\n",
    "wanted_job = wanted_job[['title', 'date',  'status', 'localisation', 'service', 'lien']]\n",
    "\n",
    "# Put it to excel\n",
    "writer = pd.ExcelWriter('jobs.xlsx')\n",
    "wanted_job.to_excel(writer, 'jobs-' + keywords)\n",
    "writer.save()"
   ]
  },
  {
   "cell_type": "code",
   "execution_count": null,
   "metadata": {
    "collapsed": true
   },
   "outputs": [],
   "source": []
  }
 ],
 "metadata": {
  "anaconda-cloud": {},
  "kernelspec": {
   "display_name": "Python [default]",
   "language": "python",
   "name": "python3"
  },
  "language_info": {
   "codemirror_mode": {
    "name": "ipython",
    "version": 3
   },
   "file_extension": ".py",
   "mimetype": "text/x-python",
   "name": "python",
   "nbconvert_exporter": "python",
   "pygments_lexer": "ipython3",
   "version": "3.5.2"
  }
 },
 "nbformat": 4,
 "nbformat_minor": 2
}
